{
 "cells": [
  {
   "cell_type": "markdown",
   "id": "a94926b8",
   "metadata": {},
   "source": [
    "# Ejercicio 4: Verificar si un conjunto es subconjunto de otro."
   ]
  },
  {
   "cell_type": "code",
   "execution_count": 1,
   "id": "a17fd009",
   "metadata": {},
   "outputs": [
    {
     "name": "stdout",
     "output_type": "stream",
     "text": [
      "El conjunto 2 es un subconjunto del conjunto 1.\n"
     ]
    }
   ],
   "source": [
    "# Ejercicio 4\n",
    "conjunto1 = {1, 2, 3, 4}\n",
    "conjunto2 = {1, 2, 3}\n",
    "\n",
    "if conjunto2.issubset(conjunto1):\n",
    "    print(\"El conjunto 2 es un subconjunto del conjunto 1.\")\n",
    "else:\n",
    "    print(\"El conjunto 2 no es un subconjunto del conjunto 1.\")"
   ]
  },
  {
   "cell_type": "markdown",
   "id": "e8206110",
   "metadata": {},
   "source": [
    "Explicación: En este ejercicio, utilizamos el método issubset() para verificar si conjunto2 es un subconjunto de conjunto1. Mostramos el resultado en la salida."
   ]
  }
 ],
 "metadata": {
  "kernelspec": {
   "display_name": "Python 3 (ipykernel)",
   "language": "python",
   "name": "python3"
  },
  "language_info": {
   "codemirror_mode": {
    "name": "ipython",
    "version": 3
   },
   "file_extension": ".py",
   "mimetype": "text/x-python",
   "name": "python",
   "nbconvert_exporter": "python",
   "pygments_lexer": "ipython3",
   "version": "3.10.9"
  }
 },
 "nbformat": 4,
 "nbformat_minor": 5
}
